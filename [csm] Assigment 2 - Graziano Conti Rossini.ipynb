{
 "cells": [
  {
   "cell_type": "markdown",
   "metadata": {},
   "source": [
    "Since I didn't get acces to the twitter API in time for the deadline, I worked only on sample 1 (that was given to me by Trung). For all the questions regarding sample 2 in the for I put 0 as a default value, sorry for the incovenence."
   ]
  },
  {
   "cell_type": "code",
   "execution_count": null,
   "metadata": {},
   "outputs": [],
   "source": [
    "import pymongo\n",
    "import json"
   ]
  },
  {
   "cell_type": "code",
   "execution_count": 56,
   "metadata": {},
   "outputs": [],
   "source": [
    "from pymongo import MongoClient\n",
    "client = MongoClient('localhost', 27017)"
   ]
  },
  {
   "cell_type": "code",
   "execution_count": 57,
   "metadata": {},
   "outputs": [],
   "source": [
    "db = client['csm']\n",
    "collection = db['tweets']"
   ]
  },
  {
   "cell_type": "code",
   "execution_count": null,
   "metadata": {},
   "outputs": [],
   "source": [
    "#read data file\n",
    "#list_tweets=[]\n",
    "#posts = db.posts\n",
    "#with open('covidtrack.json', 'r', encoding='utf8') as f:\n",
    "#    json.load(f)\n",
    "#    for line in f:\n",
    "#        print('1')\n",
    "#        data = json.load(line)\n",
    "#        list_tweets.append(data)\n",
    "#        \n",
    "#    for tw in list_tweets:\n",
    "#        print('2')\n",
    "#       posts.insert_one(tw)\n",
    "\n",
    "\n",
    "# --->>>Since for some reason this didn't work I imported the data directly trhough the MongoDB Compass Community software <---"
   ]
  },
  {
   "cell_type": "markdown",
   "metadata": {},
   "source": [
    "## 1"
   ]
  },
  {
   "cell_type": "code",
   "execution_count": 117,
   "metadata": {},
   "outputs": [
    {
     "name": "stdout",
     "output_type": "stream",
     "text": [
      "Percentage of Tweets that contain URLs: 17.766666666666666 percents.\n"
     ]
    }
   ],
   "source": [
    "#1\n",
    "#Percentage of Tweets that contain URLs\n",
    "\n",
    "url_percentage = 1-collection.count_documents({\"entities.urls\":[]})/collection.estimated_document_count()\n",
    "print('Percentage of Tweets that contain URLs: '+str(url_percentage*100)+' percents.')"
   ]
  },
  {
   "cell_type": "markdown",
   "metadata": {},
   "source": [
    "## 2"
   ]
  },
  {
   "cell_type": "code",
   "execution_count": 118,
   "metadata": {},
   "outputs": [
    {
     "name": "stdout",
     "output_type": "stream",
     "text": [
      "Percentage of Tweets that contain URLs: 82.39999999999999 percents.\n"
     ]
    }
   ],
   "source": [
    "#2\n",
    "#Percentage of Tweets that are (or contain) retweets.\n",
    "\n",
    "retweet_percentage = collection.count_documents({\"$or\":[{\"quoted_status\":{\"$exists\": True }},{\"retweeted_status\":{\"$exists\": True}}]})/collection.estimated_document_count()\n",
    "print('Percentage of Tweets that contain URLs: '+str(retweet_percentage*100)+' percents.')"
   ]
  },
  {
   "cell_type": "markdown",
   "metadata": {},
   "source": [
    "## 3"
   ]
  },
  {
   "cell_type": "code",
   "execution_count": 116,
   "metadata": {},
   "outputs": [
    {
     "name": "stdout",
     "output_type": "stream",
     "text": [
      "63.46666666666667 percents of tweets are in en\n",
      "12.9 percents of tweets are in es\n",
      "9.700000000000001 percents of tweets are in fr\n",
      "3.6333333333333337 percents of tweets are in it\n",
      "3.5333333333333337 percents of tweets are in und\n",
      "1.0666666666666667 percents of tweets are in ca\n",
      "0.9666666666666667 percents of tweets are in hi\n",
      "0.8 percents of tweets are in pt\n",
      "0.7333333333333333 percents of tweets are in nl\n",
      "0.7000000000000001 percents of tweets are in tr\n",
      "0.36666666666666664 percents of tweets are in mr\n",
      "0.36666666666666664 percents of tweets are in de\n",
      "0.26666666666666666 percents of tweets are in ta\n",
      "0.26666666666666666 percents of tweets are in ar\n",
      "0.23333333333333336 percents of tweets are in te\n",
      "0.23333333333333336 percents of tweets are in in\n",
      "0.13333333333333333 percents of tweets are in ru\n",
      "0.13333333333333333 percents of tweets are in ja\n",
      "0.1 percents of tweets are in th\n",
      "0.06666666666666667 percents of tweets are in ur\n",
      "0.06666666666666667 percents of tweets are in tl\n",
      "0.06666666666666667 percents of tweets are in el\n",
      "0.03333333333333333 percents of tweets are in sl\n",
      "0.03333333333333333 percents of tweets are in fi\n",
      "0.03333333333333333 percents of tweets are in fa\n",
      "0.03333333333333333 percents of tweets are in da\n",
      "0.03333333333333333 percents of tweets are in cs\n",
      "0.03333333333333333 percents of tweets are in bn\n"
     ]
    }
   ],
   "source": [
    "#3\n",
    "#Distribution of languages declared in the tweets (%EN, %FR, etc.)\n",
    "from collections import OrderedDict\n",
    "\n",
    "languages = collection.distinct('lang')\n",
    "total_tweets = collection.estimated_document_count()\n",
    "languages_percentage = {}\n",
    "for lan in languages:\n",
    "    languages_percentage[lan]= collection.count_documents({\"lang\":lan})/total_tweets\n",
    "    #print(str(languages_percentage[lan]*100)+' percents of tweets are in'+str(lan))\n",
    "    \n",
    "sorted_lan = sorted(((value, key) for (key,value) in languages_percentage.items()), reverse=True)\n",
    "for item in sorted_lan:\n",
    "    print(str(item[0]*100)+' percents of tweets are in '+str(item[1]))"
   ]
  },
  {
   "cell_type": "markdown",
   "metadata": {},
   "source": [
    "## 4"
   ]
  },
  {
   "cell_type": "code",
   "execution_count": 148,
   "metadata": {},
   "outputs": [
    {
     "name": "stdout",
     "output_type": "stream",
     "text": [
      "[1, 'coronavirus', 3002]\n",
      "[2, 'COVID19', 281]\n",
      "[3, 'covid19', 61]\n",
      "[4, 'China', 28]\n",
      "[5, 'Covid_19', 28]\n",
      "[6, 'COVIDー19', 26]\n",
      "[7, 'AFP', 26]\n",
      "[8, 'ULTIMAHORA', 25]\n",
      "[9, 'HKtensions', 25]\n",
      "[10, 'COVID', 24]\n",
      "[11, 'CoronavirusOutbreak', 23]\n",
      "[12, 'lockdown', 23]\n",
      "[13, 'Inde', 18]\n",
      "[14, 'cuarentena', 17]\n",
      "[15, 'coronavirusmemes', 17]\n",
      "[16, 'coronapocalypse', 16]\n",
      "[17, 'Cuba', 16]\n",
      "[18, 'StayAtHome', 15]\n",
      "[19, 'Pontivy', 12]\n",
      "[20, 'BREAKING', 11]\n"
     ]
    }
   ],
   "source": [
    "#Table of the 20 most frequent hashtags in the following format [rank, hashtag, frequency]\n",
    "hashtags = collection.distinct('entities.hashtags.text')\n",
    "aggr=collection.aggregate([\n",
    "    {\"$unwind\": \"$entities.hashtags\"},\n",
    "    {\"$group\" : {\"_id\" :\"$entities.hashtags.text\",\"count\":{\"$sum\":1}}},\n",
    "    {\"$sort\": {\"count\":-1}}\n",
    "])\n",
    "table_hashtags=[]\n",
    "i=1;\n",
    "for hashtag in aggr:\n",
    "    table_hashtags.append([i,hashtag['_id'],hashtag['count']])\n",
    "    i+=1;\n",
    "#print(table_hashtags[0:19])\n",
    "for i in range(0,20):\n",
    "    print(table_hashtags[i])\n"
   ]
  },
  {
   "cell_type": "markdown",
   "metadata": {},
   "source": [
    "## 5"
   ]
  },
  {
   "cell_type": "code",
   "execution_count": 155,
   "metadata": {},
   "outputs": [
    {
     "name": "stdout",
     "output_type": "stream",
     "text": [
      "Percentage of Tweets directly generated by the 20 NGO accounts: 0.0\n",
      "Percentage of Tweets generated by all of the 20 media accounts that appear as retweets in the sample: 0.0\n",
      "Percentage of Tweets generated by all of the 20 media accounts that appear as retweets in the sample: 0.0\n",
      "Percentage of Tweets generated by all of the 20 NGO/gov. accounts that appear as retweets in the sample: 0.0\n"
     ]
    }
   ],
   "source": [
    "#chosen mainly from https://socialblade.com/twitter/top/100/followers and https://www.ngoadvisor.net/\n",
    "id_ngo = [\"24019986\",\"1159936093\",\"1133819209\",\"15536990\",\"14254687\",\"17044207\",\"918202831\",\"63504620\",\"36688694\",\"19394213\",\"198858818\",\"140708237\",\"209575740\",\"71579643\",\"467253439\",\"46396292\",\"280386299\",\"1408406798\",\"13201312\",\"18213483\"]\n",
    "id_media = [\"972651\",\"428333\",\"18735898\",\"14075928\",\"14293310\",\"6017542\",\"5402612\",\"2557521\",\"14800270\",\"2890961\",\"816653\",\"1344951\",\"3108351\",\"15736190\",\"2707054218\",\"14780915\",\"836692559531552769\",\"759251\",\"11883132\",\"3064617094\"]\n",
    "\n",
    "\n",
    "#Percentage of Tweets directly generated by all the 20 media accounts together.\n",
    "media_percentage = collection.count_documents({\"user.id_str\":{\"$in\":id_media}})/collection.estimated_document_count()\n",
    "\n",
    "#Percentage of Tweets directly generated by the 20 NGO/gov. accounts\n",
    "ngo_percentage = collection.count_documents({\"user.id_str\":{\"$in\":id_ngo}})/collection.estimated_document_count()\n",
    "\n",
    "#Percentage of Tweets generated by all of the 20 media accounts that appear as retweets in the sample.\n",
    "media_retweet_percentage = collection.count_documents({\"$or\":[{\"retweeted_status.user.id_str\":{\"$in\":id_media}},{\"quoted_status.id_str\":{\"$in\":id_media}}]})/collection.estimated_document_count()\n",
    "\n",
    "#Percentage of Tweets generated by all of the 20 NGO/gov. accounts that appear as retweets in the sample.\n",
    "ngo_retweet_percentage = collection.count_documents({\"$or\":[{\"retweeted_status.user.id_str\":{\"$in\":id_ngo}},{\"quoted_status.id_str\":{\"$in\":id_ngo}}]})/collection.estimated_document_count()\n",
    "\n",
    "\n",
    "print('Percentage of Tweets directly generated by the 20 NGO accounts: '+str(ngo_percentage*100))\n",
    "print('Percentage of Tweets generated by all of the 20 media accounts that appear as retweets in the sample: '+str(media_percentage*100))\n",
    "print('Percentage of Tweets generated by all of the 20 media accounts that appear as retweets in the sample: '+str(media_retweet_percentage*100))\n",
    "print('Percentage of Tweets generated by all of the 20 NGO/gov. accounts that appear as retweets in the sample: '+str(ngo_retweet_percentage*100))"
   ]
  },
  {
   "cell_type": "markdown",
   "metadata": {},
   "source": [
    "## 6\n",
    "#Discuss in a couple of lines the results of points 4 & 5: \n",
    "#Are the top hashtags expected or surprising? Why? Are any of the percentages unexpected? Why?\n",
    "\n"
   ]
  },
  {
   "cell_type": "markdown",
   "metadata": {},
   "source": [
    "As expected, 9 out of the 20 most frequente hashtags where directely mentioning the coronavirus.\n",
    "What is suprising is that all the tweets out of 3000 had the hashtag \"coronavirus\", but only around 400 had the hashtag with the official name (covid-19).\n",
    "A few of them are mentioning the media or the country they comme from and an other bunch are about the lockdown.\n",
    "The only surpising hashtag is the one about the Honk Kong tension. It would mean that the outbreak of the covid-19 and the politcal situation in Honk Kong could be related.\n",
    "\n",
    "For section 5, it is really surprising that none of the ngo or major madia where found in the sample, specialy because around 80% percents of the tweets are retweets.\n",
    "My guess is that the sample is not big enough. The socund hypothesis is the time when the tweets where collected. Since the major media tweet accounts are from america, if it was collected when it was night there there wouldn't be any tweets from them."
   ]
  }
 ],
 "metadata": {
  "kernelspec": {
   "display_name": "Python 3",
   "language": "python",
   "name": "python3"
  },
  "language_info": {
   "codemirror_mode": {
    "name": "ipython",
    "version": 3
   },
   "file_extension": ".py",
   "mimetype": "text/x-python",
   "name": "python",
   "nbconvert_exporter": "python",
   "pygments_lexer": "ipython3",
   "version": "3.7.6"
  }
 },
 "nbformat": 4,
 "nbformat_minor": 4
}
